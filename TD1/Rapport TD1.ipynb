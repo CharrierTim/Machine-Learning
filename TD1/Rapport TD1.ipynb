{
 "cells": [
  {
   "attachments": {},
   "cell_type": "markdown",
   "metadata": {},
   "source": [
    "# Machine Learning - TD1\n",
    "\n",
    "By **CHARRIER Timothée** and **RAVELET Thomas**\n",
    "\n",
    "## 1. First steps"
   ]
  },
  {
   "cell_type": "code",
   "execution_count": 23,
   "metadata": {
    "tags": [
     "hide-input"
    ]
   },
   "outputs": [],
   "source": [
    "# Warning deprecation\n",
    "import warnings\n",
    "warnings.filterwarnings(\"ignore\")\n",
    "import os\n",
    "os.environ['TF_CPP_MIN_LOG_LEVEL'] = '3' \n",
    "\n",
    "# Importing the libraries\n",
    "\n",
    "import numpy as np\n",
    "import random\n",
    "import time\n",
    "import matplotlib.pyplot as plt\n",
    "from sklearn.model_selection import train_test_split\n",
    "from sklearn.decomposition import PCA\n",
    "from sklearn.tree import DecisionTreeClassifier\n",
    "from sklearn.metrics import accuracy_score\n",
    "\n",
    "# Importing the dataset\n",
    "from keras.datasets import mnist\n",
    "\n",
    "# Neural network\n",
    "\n",
    "import tensorflow as tf\n",
    "import keras\n",
    "from keras.callbacks import ModelCheckpoint\n",
    "from keras.datasets import fashion_mnist\n",
    "from keras.layers.core import Dense, Dropout, Activation\n",
    "from keras.models import Sequential\n",
    "from keras.utils import np_utils\n",
    "from keras.layers import Conv2D, MaxPooling2D, Flatten"
   ]
  },
  {
   "attachments": {},
   "cell_type": "markdown",
   "metadata": {},
   "source": [
    "### 1.1. What are the shape of the data? "
   ]
  },
  {
   "cell_type": "code",
   "execution_count": null,
   "metadata": {},
   "outputs": [],
   "source": [
    "# Loading the dataset\n",
    "\n",
    "(X_train, Y_train), (X_test, Y_test) = mnist.load_data()\n",
    "\n",
    "# Display the dataset shape\n",
    "\n",
    "print(\"X_train shape: \", X_train.shape)\n",
    "print(\"X_test shape: \", X_test.shape)"
   ]
  },
  {
   "attachments": {},
   "cell_type": "markdown",
   "metadata": {},
   "source": [
    "Thus, we have 70000 images of 28x28 pixels, which is 784 pixels in total. There are 60000 images for the training set and 10000 images for the test set. Here are 10 random images of the training set :"
   ]
  },
  {
   "cell_type": "code",
   "execution_count": null,
   "metadata": {},
   "outputs": [],
   "source": [
    "# Display 10 random pictures with their labels and axis off\n",
    "\n",
    "fig, ax = plt.subplots(1, 10)\n",
    "for i in range(10):\n",
    "    random_index = random.randint(0, len(X_train))\n",
    "    ax[i].imshow(X_train[random_index], cmap='gray')\n",
    "    ax[i].set_title(\"Label: {}\".format(Y_train[random_index]))\n",
    "    ax[i].axis('off')\n",
    "        \n",
    "plt.suptitle(\"10 random pictures from the MNIST dataset\")\n",
    "fig.set_size_inches(30, 3.5)\n",
    "plt.show()"
   ]
  },
  {
   "attachments": {},
   "cell_type": "markdown",
   "metadata": {},
   "source": [
    "### 1.2. Why split the data into training and test sets is important?\n",
    "\n",
    "The method train_test_split allows to separate the data into two parts: a training part and a test part. This allows to test the model on data that it has not seen during training. This allows to check that the model is not over-trained. Indeed, if the model is over-trained, it will be able to predict the training data but not the test data. This means that the model is not generalizable."
   ]
  },
  {
   "attachments": {},
   "cell_type": "markdown",
   "metadata": {},
   "source": [
    "### 1.3. Are the training and test sets balanced?\n",
    "\n",
    "To check if the training and test sets are balanced, we can plot the number of images for each digit in percentage. We can see that the training and test sets are balanced."
   ]
  },
  {
   "cell_type": "code",
   "execution_count": null,
   "metadata": {
    "tags": [
     "hide-input"
    ]
   },
   "outputs": [],
   "source": [
    "# Data balancing \n",
    "\n",
    "fig, ax = plt.subplots(1, 2, figsize=(10, 5))\n",
    "ax[0].bar(np.arange(10), np.bincount(Y_train), color='blue')\n",
    "ax[0].set_title(\"Train set\")\n",
    "ax[0].set_xlabel(\"Class\")\n",
    "ax[0].set_ylabel(\"Number of samples\")\n",
    "ax[1].bar(np.arange(10), np.bincount(Y_test), color='red')\n",
    "ax[1].set_title(\"Test set\")\n",
    "ax[1].set_xlabel(\"Class\")\n",
    "ax[1].set_ylabel(\"Number of samples\")\n",
    "plt.show()\n",
    "\n",
    "# Ecarts types\n",
    "\n",
    "print(\"Train set standard deviation: {:.2f}\".format(np.std(X_train)))\n",
    "print(\"Test set standard deviation: {:.2f}\".format(np.std(X_test)))"
   ]
  },
  {
   "attachments": {},
   "cell_type": "markdown",
   "metadata": {},
   "source": [
    "We can see that the training and test sets are balanced."
   ]
  },
  {
   "attachments": {},
   "cell_type": "markdown",
   "metadata": {},
   "source": [
    "## 2. Second part: non-supervised learning\n",
    "\n",
    "### 2.1. Perform a PCA on the training set\n",
    "\n",
    "In this question, we will perform a PCA on the training set with the value of n_components in the following list: [10, 50, 100, 200, 500, 784]. We will then plot a random image of the training set and the corresponding image after the PCA."
   ]
  },
  {
   "cell_type": "code",
   "execution_count": null,
   "metadata": {},
   "outputs": [],
   "source": [
    "# Reshape the dataset\n",
    "X_train_flat = X_train.reshape(X_train.shape[0], -1)\n",
    "X_test_flat = X_test.reshape(X_test.shape[0], -1)"
   ]
  },
  {
   "cell_type": "code",
   "execution_count": null,
   "metadata": {
    "tags": [
     "hide-input"
    ]
   },
   "outputs": [],
   "source": [
    "# PCA\n",
    "\n",
    "\n",
    "n_components = [1, 2, 3, 4, 5, 6, 7, 8, 9, 10, 20, 50, 100, 200, 500, 784]\n",
    "random_index = np.random.randint(0, X_train.shape[0])\n",
    "List_explained_variance = []\n",
    "count = 0\n",
    "\n",
    "for n in n_components:\n",
    "    pca = PCA(n_components=n)\n",
    "    pca.fit(X_train_flat)\n",
    "\n",
    "    # Explained variance\n",
    "\n",
    "    List_explained_variance.append(np.sum(pca.explained_variance_ratio_))\n",
    "\n",
    "    # Reconstruct the data and reshape it with the PCA model and display a picture if n = 10, 50, 100, 200, 500, 784\n",
    "    if(n == 10 or n == 50 or n == 100 or n == 200 or n == 500 or n == 784):\n",
    "        X_train_reconstructed = pca.inverse_transform(\n",
    "            pca.transform(X_train_flat))\n",
    "\n",
    "        X_train_reconstructed = X_train_reconstructed.reshape(\n",
    "            X_train.shape[0], 28, 28)\n",
    "\n",
    "        #  Display the reconstructed picture in the same figure\n",
    "\n",
    "        plt.subplot(2, 3, count+1)\n",
    "        plt.imshow(X_train_reconstructed[random_index], cmap='gray')\n",
    "        plt.axis('off')\n",
    "        count += 1\n",
    "\n",
    "        if(n == 784):\n",
    "            plt.title(\"Original\")\n",
    "\n",
    "        else:\n",
    "            plt.title(\"Components = \" + str(n))\n",
    "\n",
    "plt.suptitle(\n",
    "    \"Reconstruction of a random picture of the training set with different number of components\")\n",
    "plt.show()\n"
   ]
  },
  {
   "attachments": {},
   "cell_type": "markdown",
   "metadata": {},
   "source": [
    "### 2.2. Explain these values according to your understanding of PCA and use these values to fit a relevant value for n_components.\n",
    "\n",
    "We can see that the more components we keep, the more the image is similar to the original image. However, we can see that the image is not very clear when we keep only 10 components. We can also see that the image is very clear when we keep 784 components. Thus, we can say that the best value for n_components is 784. But the higher the value of n_components, the longer the computation time. Thus, we can choose a value of n_components between 200 and 500 to have a good image and a short computation time."
   ]
  },
  {
   "cell_type": "code",
   "execution_count": null,
   "metadata": {},
   "outputs": [],
   "source": [
    "# Plot the explained variance\n",
    "\n",
    "plt.plot(n_components, List_explained_variance)\n",
    "plt.xlabel(\"Number of components\")\n",
    "plt.ylabel(\"Explained variance\")\n",
    "plt.title(\"Explained variance with different number of components\")\n",
    "plt.show()"
   ]
  },
  {
   "attachments": {},
   "cell_type": "markdown",
   "metadata": {},
   "source": [
    "When plotting the cumulative explained variance ratio, we can see that the first 200 components explain 90% of the variance. Thus, we can choose a value of n_components between 200 and 500 to have a good image and a short computation time."
   ]
  },
  {
   "attachments": {},
   "cell_type": "markdown",
   "metadata": {},
   "source": [
    "### 2.3. With sklearn, perform K-MEANS. Play with the parameter K as well as the initialization (KMEANS++, random, or fixed array)."
   ]
  },
  {
   "cell_type": "code",
   "execution_count": null,
   "metadata": {},
   "outputs": [],
   "source": [
    "# Perform Kmeans clustering\n",
    "\n",
    "from sklearn.cluster import KMeans\n",
    "\n",
    "# Kmeans clustering with 10 clusters and using kmeans++ initialization vs random initialization\n",
    "\n",
    "kmeans = KMeans(n_clusters=10, init='k-means++', n_init=10, max_iter=300, tol=1e-04, random_state=0)\n",
    "y_kmeans = kmeans.fit_predict(X_train_flat)\n",
    "\n",
    "kmeans_random = KMeans(n_clusters=10, init='random', n_init=10, max_iter=300, tol=1e-04, random_state=0)\n",
    "y_kmeans_random = kmeans_random.fit_predict(X_train_flat)"
   ]
  },
  {
   "cell_type": "code",
   "execution_count": null,
   "metadata": {},
   "outputs": [],
   "source": [
    "# PCA with 2 components\n",
    "\n",
    "pca = PCA(n_components=2).fit(X_train_flat)\n",
    "\n",
    "# Plot the clusters\n",
    "\n",
    "f = plt.figure(figsize=(10, 5))\n",
    "\n",
    "f, (ax1, ax2) = plt.subplots(1, 2, sharey=True, figsize=(10, 5))\n",
    "\n",
    "ax1.scatter(pca.transform(X_train_flat)[:, 0], pca.transform(X_train_flat)[:, 1], c=y_kmeans)\n",
    "ax1.set_title(\"Kmeans++ initialization\")\n",
    "ax2.scatter(pca.transform(X_train_flat)[:, 0], pca.transform(X_train_flat)[:, 1], c=y_kmeans_random)\n",
    "ax2.set_title(\"Random initialization\")\n",
    "f.colorbar(ax1.scatter(pca.transform(X_train_flat)[:, 0], pca.transform(X_train_flat)[:, 1], c=y_kmeans))\n",
    "f.colorbar(ax2.scatter(pca.transform(X_train_flat)[:, 0], pca.transform(X_train_flat)[:, 1], c=y_kmeans_random))\n",
    "\n",
    "plt.suptitle(\"Kmeans clustering with 10 clusters and using kmeans++ initialization vs random initialization\")\n",
    "plt.show()"
   ]
  },
  {
   "attachments": {},
   "cell_type": "markdown",
   "metadata": {},
   "source": [
    "From the two pictures above, we cannot see any difference between the different initializations."
   ]
  },
  {
   "attachments": {},
   "cell_type": "markdown",
   "metadata": {},
   "source": [
    "### 2.4. For the correct K (K=10), evaluate how good is this partition (with the knowledge of y).\n",
    "\n",
    "Let's evaluate how good is the partition with the knowledge of y. We can easily see that the partition is not good. "
   ]
  },
  {
   "cell_type": "code",
   "execution_count": null,
   "metadata": {},
   "outputs": [],
   "source": [
    "# Evaluate how good the partition is\n",
    "\n",
    "from sklearn.metrics import adjusted_rand_score\n",
    "from sklearn.metrics import rand_score\n",
    "\n",
    "print(\"Adjusted Rand score with kmeans++ initialization: {:.2f}%\".format(rand_score(Y_train, y_kmeans)*100))\n",
    "print(\"Adjusted Rand score with random initialization: {:.2f}%\".format(rand_score(Y_train, y_kmeans_random)*100))\n",
    "\n",
    "print(\"Adjusted Rand score with kmeans++ initialization: {:.2f}%\".format(adjusted_rand_score(Y_train, y_kmeans)*100))\n",
    "print(\"Adjusted Rand score with random initialization: {:.2f}%\".format(adjusted_rand_score(Y_train, y_kmeans_random)*100))"
   ]
  },
  {
   "attachments": {},
   "cell_type": "markdown",
   "metadata": {},
   "source": [
    "The result confirms that the partition is not good.\n",
    "\n",
    "### 2.5. Do the same job with the EM-clustering."
   ]
  },
  {
   "cell_type": "code",
   "execution_count": null,
   "metadata": {},
   "outputs": [],
   "source": [
    "# Let's do the same but using EM clustering\n",
    "\n",
    "from sklearn.mixture import GaussianMixture\n",
    "\n",
    "# EM clustering with 10 clusters with fast convergence\n",
    "\n",
    "gmm = GaussianMixture(n_components=10, covariance_type='full', max_iter=100, random_state=0)\n",
    "y_gmm = gmm.fit_predict(X_train_flat)\n",
    "\n",
    "# Plot the clusters\n",
    "\n",
    "plt.scatter(pca.transform(X_train_flat)[:, 0], pca.transform(X_train_flat)[:, 1], c=y_gmm)\n",
    "plt.colorbar()\n",
    "plt.title(\"EM clustering with 10 clusters with fast convergence\")\n",
    "plt.show()\n",
    "\n",
    "# Evaluate how good the partition is\n",
    "\n",
    "print(\"Adjusted Rand score: {:.2f}%\".format(adjusted_rand_score(Y_train, y_gmm)*100))"
   ]
  },
  {
   "attachments": {},
   "cell_type": "markdown",
   "metadata": {},
   "source": [
    "Using the EM-clustering, we can see that the partition is not good. Indeed, it is even worse than the K-MEANS partition. We got half of K-MEANS accuracy.\n",
    "This is because the EM-clustering is not adapted to this problem. The EM-clustering is adapted to continuous data. In this case, the data is discrete. Thus, the EM-clustering is not adapted to this problem.\n",
    "\n",
    "## 3. Third part: supervised learning\n",
    "\n",
    "### 3.1. What is the major difference between Naïve Bayes Classifier and Support Vector 1 point Machine (or Logistic Regression)?\n",
    "\n",
    "The major difference between Naïve Bayes Classifier and Support Vector Machine (or Logistic Regression) is that the Naïve Bayes Classifier is a generative model and the Support Vector Machine (or Logistic Regression) is a discriminative model. The generative model tries to model the joint distribution of the data. The discriminative model tries to model the conditional distribution of the data.\n",
    "\n",
    "### 3.2. With sklearn, perform a classification using your favorite methods. With the documentation, check how to modify the parameters and comment how it influences the results."
   ]
  },
  {
   "cell_type": "code",
   "execution_count": null,
   "metadata": {},
   "outputs": [],
   "source": [
    "#  Naive Bayes classifier\n",
    "\n",
    "from sklearn.naive_bayes import GaussianNB\n",
    "from sklearn.metrics import accuracy_score\n",
    "\n",
    "# Train the model\n",
    "\n",
    "gnb = GaussianNB()\n",
    "gnb.fit(X_train_flat, Y_train)\n",
    "\n",
    "# Test the model\n",
    "\n",
    "y_pred = gnb.predict(X_test_flat)\n",
    "\n",
    "# Evaluate the model\n",
    "\n",
    "print(\"Accuracy: {:.2f}%\".format(accuracy_score(Y_test, y_pred)*100))"
   ]
  },
  {
   "cell_type": "code",
   "execution_count": null,
   "metadata": {},
   "outputs": [],
   "source": [
    "# SVM classifier on reduced data with PCA\n",
    "\n",
    "from sklearn.svm import SVC\n",
    "\n",
    "# New training and test set with 100 components\n",
    "\n",
    "pca_100 = PCA(n_components=100).fit(X_train_flat)\n",
    "X_train_pca_100 = pca_100.transform(X_train_flat)\n",
    "\n",
    "# Train the model\n",
    "\n",
    "svm = SVC(kernel='rbf', random_state=0, gamma=.10, C=1.0)\n",
    "svm.fit(X_train_pca_100, Y_train)\n",
    "\n",
    "# Test the model\n",
    "\n",
    "X_test_pca_100 = pca_100.transform(X_test_flat)\n",
    "y_pred = svm.predict(X_test_pca_100)\n",
    "\n",
    "# Evaluate the model\n",
    "\n",
    "print(\"Accuracy: {:.2f}%\".format(accuracy_score(Y_test, y_pred)*100))"
   ]
  },
  {
   "attachments": {},
   "cell_type": "markdown",
   "metadata": {},
   "source": [
    "### 3.3. With the score method, compute the accuracy of the model on the training the test datasets. Why do we need to analyze the performance of the model at training and testing time?"
   ]
  },
  {
   "cell_type": "code",
   "execution_count": null,
   "metadata": {},
   "outputs": [],
   "source": [
    "# Accuracy of the model on the test set\n",
    "\n",
    "print(\"Accuracy: {:.2f}%\".format(grid.score(X_test_pca_100, Y_test)*100))"
   ]
  },
  {
   "attachments": {},
   "cell_type": "markdown",
   "metadata": {},
   "source": [
    "We need to analyze the performance of the model at training and testing time because we need to check that the model is not over-trained. Indeed, if the model is over-trained, it will be able to predict the training data but not the test data. This means that the model is not generalizable. Let's take another example with the Decision Tree Classifier."
   ]
  },
  {
   "cell_type": "code",
   "execution_count": null,
   "metadata": {},
   "outputs": [],
   "source": [
    "# Decision tree classifier\n",
    "\n",
    "# define lists to collect scores\n",
    "train_scores, test_scores = list(), list()\n",
    "\n",
    "# define the tree depths to evaluate\n",
    "values = [i for i in range(1, 20)]\n",
    "\n",
    "# evaluate a decision tree for each depth\n",
    "for i in values:\n",
    "    # configure the model\n",
    "    model = DecisionTreeClassifier(max_depth=i)\n",
    "    # fit model on the training dataset\n",
    "    model.fit(X_train_flat, Y_train)\n",
    "    # evaluate on the train dataset\n",
    "    train_yhat = model.predict(X_train_flat)\n",
    "    train_acc = accuracy_score(Y_train, train_yhat)\n",
    "    train_scores.append(train_acc)\n",
    "    # evaluate on the test dataset\n",
    "    test_yhat = model.predict(X_test_flat)\n",
    "    test_acc = accuracy_score(Y_test, test_yhat)\n",
    "    test_scores.append(test_acc)\n",
    "   \n",
    "\n",
    "# plot the depth vs accuracy\n",
    "plt.plot(values, train_scores, '-o', label='Train', color='red')\n",
    "plt.plot(values, test_scores, '-o', label='Test', color='blue')\n",
    "plt.xlabel('Tree depth', fontsize=14)\n",
    "plt.ylabel('Accuracy', fontsize=14)\n",
    "plt.legend()\n",
    "plt.show()"
   ]
  },
  {
   "attachments": {},
   "cell_type": "markdown",
   "metadata": {},
   "source": [
    "We can see that with high values of max_depth, the model is over-trained: there is overfitting. The plot clearly shows that increasing the tree depth in the early stages results in a corresponding improvement in both train and test sets. However, after a certain point, the test set accuracy starts to decrease while the train set accuracy continues to increase. This is a sign of overfitting. Thus, we can say that the best value for max_depth is 10. Indeed, we have 10 digits in the dataset."
   ]
  },
  {
   "attachments": {},
   "cell_type": "markdown",
   "metadata": {},
   "source": [
    "### 3.4. Does the PCA influence the performance of the classification (according to the intensity of the reduction)?\n",
    "\n",
    "The PCA does not influence the performance of the classification. Indeed, we can see that the accuracy is the same with or without the PCA."
   ]
  },
  {
   "attachments": {},
   "cell_type": "markdown",
   "metadata": {},
   "source": [
    "## 4. Fourth part: deep learning\n",
    "\n",
    "Same as in 3.1.: we want to perform a supervised image classification task.\n",
    "For a model based on neural networks, the development platform will be TENSORFLOW (with KERAS included).\n",
    "\n",
    "**MultiLayer Perceptron**\n",
    "\n",
    "Your first deep neural network is a Multy Layer Perceptron (MLP), i.e. a feedforward network only composed of fully connected layers. For your first attempt, use only one hidden layer.\n",
    "\n",
    "### 4.1. What is the size of the input tensor? What is the size of the output layer?\n",
    "\n",
    "The size of the input tensor is 784. The size of the output layer is 10."
   ]
  },
  {
   "cell_type": "code",
   "execution_count": null,
   "metadata": {},
   "outputs": [],
   "source": [
    "# Size of the input tensor\n",
    "\n",
    "input_tensor = keras.layers.Input(shape=(784,))\n",
    "\n",
    "# Size of the output layer\n",
    "\n",
    "output_layer = keras.layers.Dense(10, activation='softmax')(input_tensor)\n",
    "\n",
    "# Size of the input tensor and output layer\n",
    "\n",
    "print(\"Size of the input tensor: {}\".format(input_tensor.shape))\n",
    "print(\"Size of the output layer: {}\".format(output_layer.shape))"
   ]
  },
  {
   "attachments": {},
   "cell_type": "markdown",
   "metadata": {},
   "source": [
    "### 4.2. How many epochs do you use? What does it mean? What is the batch_size? What 1 points does it means?\n",
    "\n",
    "An epoch is an iteration over the entire training data. We use 10 epochs. The batch_size is the number of samples per gradient update. We use a batch_size of 128.\n",
    "In this case, the batch_size means that we will update the weights after 128 samples. To resume the parameters are:\n",
    "\n",
    "    - batch size: the number of training examples used in one forward/backward pass of the neural network model.\n",
    "    - number of epochs: the number of times the training algorithm iterates over the entire training set."
   ]
  },
  {
   "cell_type": "code",
   "execution_count": null,
   "metadata": {},
   "outputs": [],
   "source": [
    "# Define epochs and batch size\n",
    "\n",
    "epochs = 10\n",
    "batch_size = 128"
   ]
  },
  {
   "attachments": {},
   "cell_type": "markdown",
   "metadata": {},
   "source": [
    "### 4.3. Why do we define a validation set (for example: validation_split=0.2)?\n",
    "\n",
    "We define a validation set to check that the model is not over-trained. Indeed, if the model is over-trained, it will be able to predict the training data but not the test data. This means that the model is not generalizable."
   ]
  },
  {
   "attachments": {},
   "cell_type": "markdown",
   "metadata": {},
   "source": [
    "### 4.3. Pick the most important parameters you have to set with the compile and the fit method. Briefly explain why they are important parameters, i.e. they influence the training process.\n",
    "\n",
    "The most important parameters we have to set with the compile method are the optimizer and the loss. The optimizer is the algorithm used to minimize the loss. The loss is the function that is minimized by the optimizer. The most important parameters we have to set with the fit method are the epochs and the batch_size. The epochs is the number of iterations over the entire training data. The batch_size is the number of samples per gradient update."
   ]
  },
  {
   "cell_type": "code",
   "execution_count": 11,
   "metadata": {},
   "outputs": [],
   "source": [
    "# Load the data\n",
    "\n",
    "(X_train, Y_train), (X_test, Y_test) = mnist.load_data()\n",
    "\n",
    "# Reshape the data to 28x28 pixels\n",
    "\n",
    "X_train = X_train.reshape(60000, 784)\n",
    "X_test = X_test.reshape(10000, 784)\n",
    "\n",
    "# Convert the data to the right type\n",
    "\n",
    "X_train = X_train.astype('float32')\n",
    "X_test = X_test.astype('float32')\n",
    "\n",
    "# Normalize the data to the range of [0, 1]\n",
    "\n",
    "X_train /= 255\n",
    "X_test /= 255\n",
    "\n",
    "# Convert the labels to one-hot encoding\n",
    "\n",
    "Y_train = np_utils.to_categorical(Y_train, 10)\n",
    "Y_test = np_utils.to_categorical(Y_test, 10)"
   ]
  },
  {
   "attachments": {},
   "cell_type": "markdown",
   "metadata": {},
   "source": [
    "The code above setup the data for the MLP. We reshape the data to have a shape of (60000, 784). We also normalize the data to have values between 0 and 1. We can now build the neural network that use only one hidden layer."
   ]
  },
  {
   "cell_type": "code",
   "execution_count": 14,
   "metadata": {},
   "outputs": [
    {
     "name": "stdout",
     "output_type": "stream",
     "text": [
      "Epoch 1/10\n",
      "469/469 - 4s - loss: 0.2735 - accuracy: 0.9223 - val_loss: 0.1307 - val_accuracy: 0.9615 - 4s/epoch - 8ms/step\n",
      "Epoch 2/10\n",
      "469/469 - 3s - loss: 0.1105 - accuracy: 0.9683 - val_loss: 0.1081 - val_accuracy: 0.9668 - 3s/epoch - 7ms/step\n",
      "Epoch 3/10\n",
      "469/469 - 3s - loss: 0.0711 - accuracy: 0.9789 - val_loss: 0.0778 - val_accuracy: 0.9745 - 3s/epoch - 7ms/step\n",
      "Epoch 4/10\n",
      "469/469 - 3s - loss: 0.0523 - accuracy: 0.9841 - val_loss: 0.0733 - val_accuracy: 0.9769 - 3s/epoch - 6ms/step\n",
      "Epoch 5/10\n",
      "469/469 - 3s - loss: 0.0373 - accuracy: 0.9891 - val_loss: 0.0621 - val_accuracy: 0.9800 - 3s/epoch - 7ms/step\n",
      "Epoch 6/10\n",
      "469/469 - 3s - loss: 0.0280 - accuracy: 0.9919 - val_loss: 0.0583 - val_accuracy: 0.9823 - 3s/epoch - 6ms/step\n",
      "Epoch 7/10\n",
      "469/469 - 3s - loss: 0.0208 - accuracy: 0.9946 - val_loss: 0.0629 - val_accuracy: 0.9804 - 3s/epoch - 6ms/step\n",
      "Epoch 8/10\n",
      "469/469 - 3s - loss: 0.0164 - accuracy: 0.9958 - val_loss: 0.0624 - val_accuracy: 0.9808 - 3s/epoch - 7ms/step\n",
      "Epoch 9/10\n",
      "469/469 - 3s - loss: 0.0118 - accuracy: 0.9971 - val_loss: 0.0651 - val_accuracy: 0.9804 - 3s/epoch - 7ms/step\n",
      "Epoch 10/10\n",
      "469/469 - 3s - loss: 0.0100 - accuracy: 0.9976 - val_loss: 0.0729 - val_accuracy: 0.9787 - 3s/epoch - 7ms/step\n"
     ]
    }
   ],
   "source": [
    "# Let's build the neural network that only use one hidden layer\n",
    "\n",
    "# Create the model\n",
    "\n",
    "model = Sequential()\n",
    "model.add(Dense(512, input_shape=(784,)))\n",
    "model.add(Activation('relu'))\n",
    "model.add(Dense(10))\n",
    "model.add(Activation('softmax'))\n",
    "\n",
    "# Compile the model\n",
    "\n",
    "model.compile(loss='categorical_crossentropy', metrics=['accuracy'], optimizer='adam')\n",
    "\n",
    "# Train the model\n",
    "\n",
    "history = model.fit(X_train, Y_train, batch_size=batch_size, epochs=epochs, verbose=2, validation_data=(X_test, Y_test))"
   ]
  },
  {
   "attachments": {},
   "cell_type": "markdown",
   "metadata": {},
   "source": [
    "Let's plot the accuracy and the loss of the model. And also some predictions."
   ]
  },
  {
   "cell_type": "code",
   "execution_count": null,
   "metadata": {},
   "outputs": [],
   "source": [
    "# Evaluate the model\n",
    "\n",
    "score = model.evaluate(X_test, Y_test, verbose=0)\n",
    "print('Test loss:', score[0])\n",
    "print('Test accuracy:', score[1])\n",
    "\n",
    "# Plot images from the predictions\n",
    "\n",
    "predictions = model.predict(X_test)\n",
    "\n",
    "# Plot the first 10 images from the test set and their predicted labels and true labels\n",
    "\n",
    "plt.figure(figsize=(10, 10))\n",
    "for i in range(10):\n",
    "    plt.subplot(5, 5, i+1)\n",
    "    plt.xticks([])\n",
    "    plt.yticks([])\n",
    "    plt.grid(False)\n",
    "    plt.imshow(X_test[i].reshape(28, 28), cmap=plt.cm.binary)\n",
    "    if np.argmax(predictions[i]) == np.argmax(Y_test[i]):\n",
    "        color = 'green'\n",
    "    else:\n",
    "        color = 'red'\n",
    "    plt.xlabel(\"Predicted: {}\".format(np.argmax(predictions[i])), color=color)\n",
    "    \n",
    "plt.show()"
   ]
  },
  {
   "attachments": {},
   "cell_type": "markdown",
   "metadata": {},
   "source": [
    "From the plot above, the prediction is not good. Only 3 out of 10 predictions are correct. We need to improve the model. Let's try to add a second hidden layer."
   ]
  },
  {
   "cell_type": "code",
   "execution_count": null,
   "metadata": {},
   "outputs": [],
   "source": [
    "# Let's build the neural network that use two hidden layers\n",
    "\n",
    "# Create the model\n",
    "\n",
    "model = Sequential()\n",
    "model.add(Dense(512, input_shape=(784,)))\n",
    "model.add(Activation('relu'))\n",
    "model.add(Dropout(0.2))\n",
    "model.add(Dense(512))\n",
    "model.add(Activation('relu'))\n",
    "model.add(Dropout(0.2))\n",
    "model.add(Dense(10))\n",
    "model.add(Activation('softmax'))\n",
    "\n",
    "\n",
    "# Compile the model\n",
    "\n",
    "model.compile(loss='categorical_crossentropy', metrics=['accuracy'], optimizer='adam')\n",
    "\n",
    "# Train the model\n",
    "\n",
    "history = model.fit(X_train, Y_train, batch_size=batch_size, epochs=epochs, verbose=0, validation_data=(X_test, Y_test))\n",
    "\n",
    "\n",
    "# Evaluate the model\n",
    "\n",
    "score = model.evaluate(X_test, Y_test, verbose=0)\n",
    "print('Test loss:', score[0])\n",
    "print('Test accuracy:', score[1])\n",
    "\n",
    "# Plot images from the predictions\n",
    "\n",
    "predictions = model.predict(X_test)\n",
    "\n",
    "# Plot the first 10 images from the test set and their predicted labels and true labels\n",
    "\n",
    "plt.figure(figsize=(10, 10))\n",
    "for i in range(10):\n",
    "    plt.subplot(5, 5, i+1)\n",
    "    plt.xticks([])\n",
    "    plt.yticks([])\n",
    "    plt.grid(False)\n",
    "    plt.imshow(X_test[i].reshape(28, 28), cmap=plt.cm.binary)\n",
    "    if np.argmax(predictions[i]) == np.argmax(Y_test[i]):\n",
    "        color = 'green'\n",
    "    else:\n",
    "        color = 'red'\n",
    "    plt.xlabel(\"Predicted: {}\".format(np.argmax(predictions[i])), color=color)"
   ]
  },
  {
   "attachments": {},
   "cell_type": "markdown",
   "metadata": {},
   "source": [
    "In the case of a multilayer perceptron, the accuracy of the model rises to over 98%. This neural network uses 4 layers : \n",
    "- 1 input layer which takes the 784 pixels of the picture as argument\n",
    "- 2 hidden layers of 512 perceptrons each with 'relu' as output fonction\n",
    "- 1 output layer with 10 outputs, each one represents the probability of being the digit corresponding to the output"
   ]
  },
  {
   "cell_type": "code",
   "execution_count": null,
   "metadata": {},
   "outputs": [],
   "source": [
    "# Plot learning curves\n",
    "\n",
    "plt.figure(figsize=(10, 10))\n",
    "plt.subplot(2, 1, 1)\n",
    "plt.plot(history.history['loss'], label='Training loss')\n",
    "plt.plot(history.history['val_loss'], label='Validation loss')\n",
    "plt.legend(loc='upper right')\n",
    "plt.ylabel('Cross Entropy')\n",
    "plt.title('Training and Validation Loss')\n",
    "\n",
    "plt.subplot(2, 1, 2)\n",
    "plt.plot(history.history['accuracy'], label='Training accuracy')\n",
    "plt.plot(history.history['val_accuracy'], label='Validation accuracy')\n",
    "plt.legend(loc='lower right')\n",
    "plt.ylabel('Accuracy')\n",
    "plt.title('Training and Validation Accuracy')\n",
    "\n",
    "plt.show()"
   ]
  },
  {
   "attachments": {},
   "cell_type": "markdown",
   "metadata": {},
   "source": [
    "**Convolutional Neural Network (CNN)**\n",
    "\n",
    "### 4.6 : What is the size of the input tensor? Why it is not the same as for your previous MLP model?"
   ]
  },
  {
   "cell_type": "code",
   "execution_count": 29,
   "metadata": {},
   "outputs": [
    {
     "name": "stdout",
     "output_type": "stream",
     "text": [
      "Model: \"sequential_16\"\n",
      "_________________________________________________________________\n",
      " Layer (type)                Output Shape              Param #   \n",
      "=================================================================\n",
      " conv2d_16 (Conv2D)          (None, 26, 26, 32)        320       \n",
      "                                                                 \n",
      " max_pooling2d_13 (MaxPoolin  (None, 13, 13, 32)       0         \n",
      " g2D)                                                            \n",
      "                                                                 \n",
      " dropout_1 (Dropout)         (None, 13, 13, 32)        0         \n",
      "                                                                 \n",
      " flatten_4 (Flatten)         (None, 5408)              0         \n",
      "                                                                 \n",
      " dense_15 (Dense)            (None, 10)                54090     \n",
      "                                                                 \n",
      "=================================================================\n",
      "Total params: 54,410\n",
      "Trainable params: 54,410\n",
      "Non-trainable params: 0\n",
      "_________________________________________________________________\n",
      "Epoch 1/3\n",
      "469/469 [==============================] - 11s 21ms/step - loss: 0.3712 - accuracy: 0.8973 - val_loss: 0.1674 - val_accuracy: 0.9517\n",
      "Epoch 2/3\n",
      "469/469 [==============================] - 10s 22ms/step - loss: 0.1470 - accuracy: 0.9586 - val_loss: 0.1079 - val_accuracy: 0.9702\n",
      "Epoch 3/3\n",
      "469/469 [==============================] - 12s 25ms/step - loss: 0.1062 - accuracy: 0.9697 - val_loss: 0.0833 - val_accuracy: 0.9755\n"
     ]
    },
    {
     "data": {
      "image/png": "[encoded data removed]",
      "text/plain": [
       "<Figure size 640x480 with 1 Axes>"
      ]
     },
     "metadata": {},
     "output_type": "display_data"
    },
    {
     "name": "stdout",
     "output_type": "stream",
     "text": [
      "313/313 - 1s - loss: 0.0833 - accuracy: 0.9755 - 1s/epoch - 3ms/step\n",
      "0.9754999876022339\n",
      "0.08333145081996918\n"
     ]
    }
   ],
   "source": [
    "# Load the data\n",
    "\n",
    "(X_train, Y_train), (X_test, Y_test) = mnist.load_data()\n",
    "X_train = np.expand_dims(X_train, axis=-1)\n",
    "X_test = np.expand_dims(X_test, axis=-1)\n",
    "\n",
    "# Reshape the data to 28x28 pixels\n",
    "\n",
    "X_train = X_train.astype('float32')\n",
    "X_test = X_test.astype('float32')\n",
    "\n",
    "# Normalize the data to the range of [0, 1]\n",
    "\n",
    "X_train /= 255\n",
    "X_test /= 255\n",
    "\n",
    "# Convert the labels to one-hot encoding\n",
    "\n",
    "Y_train = np_utils.to_categorical(Y_train, 10)\n",
    "Y_test = np_utils.to_categorical(Y_test, 10)\n",
    "\n",
    "batch_size = 128\n",
    "epochs = 10\n",
    "\n",
    "# Create the model with only one hidden layer\n",
    "\n",
    "model = Sequential()\n",
    "model.add(Conv2D(32, (3, 3), activation='relu', input_shape=(28, 28, 1)))\n",
    "model.add(MaxPooling2D((2, 2)))\n",
    "model.add(Dropout(0.2))\n",
    "model.add(Flatten())\n",
    "model.add(Dense(10, activation='softmax'))\n",
    "\n",
    "model.summary()\n",
    "\n",
    "model.compile(optimizer='adam',\n",
    "              loss=tf.keras.losses.CategoricalCrossentropy(),\n",
    "              metrics=['accuracy'])\n",
    "\n",
    "history = model.fit(X_train, Y_train, epochs=epochs, batch_size=batch_size, validation_data=(X_test, Y_test))\n",
    "\n",
    "# Evaluate the model\n",
    "\n",
    "score = model.evaluate(X_test, Y_test, verbose=0)\n",
    "print('Test loss:', score[0])\n",
    "print('Test accuracy:', score[1])\n",
    "\n",
    "# Plot images from the predictions\n",
    "\n",
    "predictions = model.predict(X_test)\n",
    "\n",
    "# Plot the first 10 images from the test set and their predicted labels and true labels\n",
    "\n",
    "plt.figure(figsize=(10, 10))\n",
    "for i in range(10):\n",
    "    plt.subplot(5, 5, i+1)\n",
    "    plt.xticks([])\n",
    "    plt.yticks([])\n",
    "    plt.grid(False)\n",
    "    plt.imshow(X_test[i].reshape(28, 28), cmap=plt.cm.binary)\n",
    "    if np.argmax(predictions[i]) == np.argmax(Y_test[i]):\n",
    "        color = 'green'\n",
    "    else:\n",
    "        color = 'red'\n",
    "    plt.xlabel(\"Predicted: {}\".format(np.argmax(predictions[i])), color=color)"
   ]
  }
 ],
 "metadata": {
  "kernelspec": {
   "display_name": "Python 3",
   "language": "python",
   "name": "python3"
  },
  "language_info": {
   "codemirror_mode": {
    "name": "ipython",
    "version": 3
   },
   "file_extension": ".py",
   "mimetype": "text/x-python",
   "name": "python",
   "nbconvert_exporter": "python",
   "pygments_lexer": "ipython3",
   "version": "3.10.8 (tags/v3.10.8:aaaf517, Oct 11 2022, 16:50:30) [MSC v.1933 64 bit (AMD64)]"
  },
  "orig_nbformat": 4,
  "vscode": {
   "interpreter": {
    "hash": "0cf40499047ac89b49562712a64ea6acf8c6f012e163f0f426c12ed68eaabd48"
   }
  }
 },
 "nbformat": 4,
 "nbformat_minor": 2
}
