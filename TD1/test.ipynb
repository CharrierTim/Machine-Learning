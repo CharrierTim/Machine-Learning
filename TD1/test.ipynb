{
 "cells": [
  {
   "cell_type": "code",
   "execution_count": 1,
   "metadata": {},
   "outputs": [],
   "source": [
    "# Import python file from another file and use exported function\n",
    "import Lib"
   ]
  },
  {
   "cell_type": "code",
   "execution_count": 2,
   "metadata": {},
   "outputs": [
    {
     "name": "stdout",
     "output_type": "stream",
     "text": [
      "469/469 [==============================] - 2s 3ms/step - loss: 0.3583 - accuracy: 0.9007 - val_loss: 0.1888 - val_accuracy: 0.9463\n",
      "Test loss: 0.1887560933828354\n",
      "Test accuracy: 0.9463000297546387\n",
      "Total execution time:  2.202173948287964 s\n",
      "Memory usage:  645.6953125 MB\n"
     ]
    }
   ],
   "source": [
    "\n",
    "# Run the MLP model\n",
    "mlp = Lib.MLP(1, 128)\n",
    "mlp.run_model()"
   ]
  }
 ],
 "metadata": {
  "kernelspec": {
   "display_name": "Python 3",
   "language": "python",
   "name": "python3"
  },
  "language_info": {
   "codemirror_mode": {
    "name": "ipython",
    "version": 3
   },
   "file_extension": ".py",
   "mimetype": "text/x-python",
   "name": "python",
   "nbconvert_exporter": "python",
   "pygments_lexer": "ipython3",
   "version": "3.10.8"
  },
  "orig_nbformat": 4,
  "vscode": {
   "interpreter": {
    "hash": "0cf40499047ac89b49562712a64ea6acf8c6f012e163f0f426c12ed68eaabd48"
   }
  }
 },
 "nbformat": 4,
 "nbformat_minor": 2
}
